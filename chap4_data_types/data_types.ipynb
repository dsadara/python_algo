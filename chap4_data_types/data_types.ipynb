{
 "cells": [
  {
   "cell_type": "markdown",
   "source": [
    "## 숫자\n",
    "파이썬은 숫자 정수형으로 임의 정밀도의 int만을 제공함\n",
    "* 임의 정밀도(Arbitrary-Precision)이란\n",
    "    무제한 자릿수를 제공하는 정수형 (배열을 이용해서)\n",
    "* bool은 내부적으로 0과 1으로 처리되는 int의 서브 클래스임\n",
    "* int는 object의 하위 클래스이므로 object > int > bool 구조를 가짊"
   ],
   "metadata": {
    "collapsed": false
   }
  },
  {
   "cell_type": "code",
   "execution_count": 2,
   "metadata": {
    "collapsed": true
   },
   "outputs": [
    {
     "data": {
      "text/plain": "True"
     },
     "execution_count": 2,
     "metadata": {},
     "output_type": "execute_result"
    }
   ],
   "source": [
    "import copy\n",
    "\n",
    "True == 1"
   ]
  },
  {
   "cell_type": "code",
   "execution_count": 3,
   "outputs": [
    {
     "data": {
      "text/plain": "True"
     },
     "execution_count": 3,
     "metadata": {},
     "output_type": "execute_result"
    }
   ],
   "source": [
    "False == 0"
   ],
   "metadata": {
    "collapsed": false
   }
  },
  {
   "cell_type": "markdown",
   "source": [
    "## 매핑(Mapping)\n",
    "매핑 타입은 키와 자료형으로 구성된 자료형임.\n",
    "파이썬의 유일한 매핑 자료형은 딕셔너리임."
   ],
   "metadata": {
    "collapsed": false
   }
  },
  {
   "cell_type": "markdown",
   "source": [
    "## 집합\n",
    "파이썬의 집합 자료형인 set은 중복된 값을 갖지 않는 자료형임"
   ],
   "metadata": {
    "collapsed": false
   }
  },
  {
   "cell_type": "code",
   "execution_count": 14,
   "outputs": [
    {
     "data": {
      "text/plain": "set()"
     },
     "execution_count": 14,
     "metadata": {},
     "output_type": "execute_result"
    }
   ],
   "source": [
    "# 빈 집합 선언\n",
    "a = set()\n",
    "a"
   ],
   "metadata": {
    "collapsed": false
   }
  },
  {
   "cell_type": "code",
   "execution_count": 13,
   "outputs": [
    {
     "data": {
      "text/plain": "set"
     },
     "execution_count": 13,
     "metadata": {},
     "output_type": "execute_result"
    }
   ],
   "source": [
    "type(a)"
   ],
   "metadata": {
    "collapsed": false
   }
  },
  {
   "cell_type": "code",
   "execution_count": 16,
   "outputs": [
    {
     "data": {
      "text/plain": "set"
     },
     "execution_count": 16,
     "metadata": {},
     "output_type": "execute_result"
    }
   ],
   "source": [
    "# 값이 포함된 집합을 선언하기\n",
    "a = {'a', 'b', 'c'}\n",
    "type(a)"
   ],
   "metadata": {
    "collapsed": false
   }
  },
  {
   "cell_type": "code",
   "execution_count": 17,
   "outputs": [
    {
     "data": {
      "text/plain": "dict"
     },
     "execution_count": 17,
     "metadata": {},
     "output_type": "execute_result"
    }
   ],
   "source": [
    "# dictionary도 중괄호를 쓴다 -> 차이는 key value가 있다는 점\n",
    "b = {'a':'A', 'b':'B', 'c':'C'}\n",
    "type(b)"
   ],
   "metadata": {
    "collapsed": false
   }
  },
  {
   "cell_type": "code",
   "execution_count": 18,
   "outputs": [
    {
     "data": {
      "text/plain": "{2, 3, 5}"
     },
     "execution_count": 18,
     "metadata": {},
     "output_type": "execute_result"
    }
   ],
   "source": [
    "# set은 입력 순서가 유지되지 않음\n",
    "a = {3, 2, 5}\n",
    "a"
   ],
   "metadata": {
    "collapsed": false
   }
  },
  {
   "cell_type": "code",
   "execution_count": 19,
   "outputs": [
    {
     "data": {
      "text/plain": "{2, 3, 5}"
     },
     "execution_count": 19,
     "metadata": {},
     "output_type": "execute_result"
    }
   ],
   "source": [
    "# 중복된 값은 하나의 값만 유지함\n",
    "a = {3, 2, 3, 5}\n",
    "a"
   ],
   "metadata": {
    "collapsed": false
   }
  },
  {
   "cell_type": "markdown",
   "source": [
    "## 시퀀스(Sequence)\n",
    "\n",
    "어떤 특정 대상의 순서 있는 나열을 뜻함.\n",
    "* 예를 들어 문자열(str)은 문자의 순서있는 나열이고,\n",
    "* list는 다양한 값들을 배열 형태의 순서 있는 나열로 구성하는 자료형임.\n",
    "\n",
    "시퀀스는 불변(Immutable)과 가변(Mutable)로 구분함.\n"
   ],
   "metadata": {
    "collapsed": false
   }
  },
  {
   "cell_type": "markdown",
   "source": [
    "### 불변 시퀀스\n",
    "한번 선언되는 값은 변경할 수 없음\n",
    "str, tuple, bytes가 해당됨"
   ],
   "metadata": {
    "collapsed": false
   }
  },
  {
   "cell_type": "code",
   "execution_count": 20,
   "outputs": [
    {
     "data": {
      "text/plain": "str"
     },
     "execution_count": 20,
     "metadata": {},
     "output_type": "execute_result"
    }
   ],
   "source": [
    "# 근데 str변수는 값을 변경할 수 있어 보임\n",
    "a = 'abc'\n",
    "a = 'def'   # a 변수의 값이 변경된 것일까?\n",
    "type(a)"
   ],
   "metadata": {
    "collapsed": false
   }
  },
  {
   "cell_type": "code",
   "execution_count": 25,
   "outputs": [
    {
     "data": {
      "text/plain": "2247655694960"
     },
     "execution_count": 25,
     "metadata": {},
     "output_type": "execute_result"
    }
   ],
   "source": [
    "# a의 실제 메모리 주소 출력해보기\n",
    "a = 'abc'\n",
    "id('abc')"
   ],
   "metadata": {
    "collapsed": false
   }
  },
  {
   "cell_type": "code",
   "execution_count": 26,
   "outputs": [
    {
     "data": {
      "text/plain": "2247655694960"
     },
     "execution_count": 26,
     "metadata": {},
     "output_type": "execute_result"
    }
   ],
   "source": [
    "id(a)   # a의 주소"
   ],
   "metadata": {
    "collapsed": false
   }
  },
  {
   "cell_type": "code",
   "execution_count": 27,
   "outputs": [
    {
     "data": {
      "text/plain": "2247657272560"
     },
     "execution_count": 27,
     "metadata": {},
     "output_type": "execute_result"
    }
   ],
   "source": [
    "a = 'def'\n",
    "id('def')"
   ],
   "metadata": {
    "collapsed": false
   }
  },
  {
   "cell_type": "code",
   "execution_count": 28,
   "outputs": [
    {
     "data": {
      "text/plain": "2247657272560"
     },
     "execution_count": 28,
     "metadata": {},
     "output_type": "execute_result"
    }
   ],
   "source": [
    "id(a)   # def을 대입한 후 a의 주소가 바뀌었다"
   ],
   "metadata": {
    "collapsed": false
   }
  },
  {
   "cell_type": "code",
   "execution_count": 29,
   "outputs": [
    {
     "ename": "TypeError",
     "evalue": "'str' object does not support item assignment",
     "output_type": "error",
     "traceback": [
      "\u001B[1;31m---------------------------------------------------------------------------\u001B[0m",
      "\u001B[1;31mTypeError\u001B[0m                                 Traceback (most recent call last)",
      "Cell \u001B[1;32mIn[29], line 2\u001B[0m\n\u001B[0;32m      1\u001B[0m \u001B[38;5;66;03m# 그리고 str이 불변이라는 결정적 증거\u001B[39;00m\n\u001B[1;32m----> 2\u001B[0m \u001B[43ma\u001B[49m\u001B[43m[\u001B[49m\u001B[38;5;241;43m1\u001B[39;49m\u001B[43m]\u001B[49m \u001B[38;5;241m=\u001B[39m \u001B[38;5;124m'\u001B[39m\u001B[38;5;124md\u001B[39m\u001B[38;5;124m'\u001B[39m  \u001B[38;5;66;03m# 이게 에러가 난다\u001B[39;00m\n",
      "\u001B[1;31mTypeError\u001B[0m: 'str' object does not support item assignment"
     ]
    }
   ],
   "source": [
    "# 그리고 str이 불변이라는 결정적 증거\n",
    "a[1] = 'd'  # 이게 에러가 난다"
   ],
   "metadata": {
    "collapsed": false,
    "pycharm": {
     "name": "#%%ㄴ\n"
    }
   }
  },
  {
   "cell_type": "markdown",
   "source": [
    "## 객체\n",
    "파이썬은 모든 것이 객체임.\n",
    "이 중에서는 크게 불변 객체(Immutable Object)와 가변 객체(Mutable Object)로 구분할 수 있음\n",
    "* 파이썬 자료형의 불변 객체 여부\n",
    "\n",
    "    | 클래스    |설명|불변 객체|\n",
    "------|------|---|---|\n",
    "    | bool |부울|O|\n",
    "    | int |정수|O|\n",
    "    | float |실수|O|\n",
    "    | list |리스트|X|\n",
    "    | tuple |불변리스트|O|\n",
    "    | str |문자|O|\n",
    "    | set |중복없는 집합 자료형|X|\n",
    "    | dict |딕셔너리|X|"
   ],
   "metadata": {
    "collapsed": false
   }
  },
  {
   "cell_type": "markdown",
   "source": [
    "### 불변 객체\n",
    "파이썬에서 변수를 할당하는 작업은 해당 객체에 대해 참조를 한다는 의미임\n",
    "그러니깐 주소만 대입하는 얕은 복사인 것임.\n",
    "문자나 숫자나 다 객체여서 얕은 복사가 된다. (원시 타입은 새로 할당이 됨)"
   ],
   "metadata": {
    "collapsed": false
   }
  },
  {
   "cell_type": "code",
   "execution_count": 45,
   "outputs": [
    {
     "data": {
      "text/plain": "(2247653812816, 2247653812816, 2247653812816)"
     },
     "execution_count": 45,
     "metadata": {},
     "output_type": "execute_result"
    }
   ],
   "source": [
    "10\n",
    "a = 10\n",
    "b = a\n",
    "id(10), id(a), id(b)    # 모두 같은 메모리에 위치함"
   ],
   "metadata": {
    "collapsed": false
   }
  },
  {
   "cell_type": "markdown",
   "source": [
    "### 가변 객체\n",
    "\n",
    "가변 객체는 다른 변수가 참조하고 있을 때 그 변수의 값을 변경할 수 있다."
   ],
   "metadata": {
    "collapsed": false
   }
  },
  {
   "cell_type": "code",
   "execution_count": 47,
   "outputs": [
    {
     "data": {
      "text/plain": "[1, 2, 3, 4, 5]"
     },
     "execution_count": 47,
     "metadata": {},
     "output_type": "execute_result"
    }
   ],
   "source": [
    "a = [1, 2, 3, 4, 5]\n",
    "b = a\n",
    "b"
   ],
   "metadata": {
    "collapsed": false
   }
  },
  {
   "cell_type": "code",
   "execution_count": 48,
   "outputs": [
    {
     "data": {
      "text/plain": "[1, 2, 4, 4, 5]"
     },
     "execution_count": 48,
     "metadata": {},
     "output_type": "execute_result"
    }
   ],
   "source": [
    "a[2] = 4\n",
    "a"
   ],
   "metadata": {
    "collapsed": false
   }
  },
  {
   "cell_type": "code",
   "execution_count": 50,
   "outputs": [
    {
     "data": {
      "text/plain": "[1, 2, 4, 4, 5]"
     },
     "execution_count": 50,
     "metadata": {},
     "output_type": "execute_result"
    }
   ],
   "source": [
    "b # a를 수정했지만 b의 값도 변경시켰다"
   ],
   "metadata": {
    "collapsed": false
   }
  },
  {
   "cell_type": "markdown",
   "source": [
    "### C++ 참조와 Python 참조의 비교\n",
    "C++은 참조 변수에 값을 할당하면 참조의 대상 또한 할당된 값으로 변경된다\n",
    "```\n",
    "// C++\n",
    "int a = 10;\n",
    "int &b = a;\n",
    "b = 7;  // b에 값을 할당하면 참조의 대상인 a도 값이 변경된다\n",
    "\n",
    "std::cout << a << std::endl;    // 7이 출력됨\n",
    "```\n",
    "Python은 다르다.\n",
    "b = a로 a와 b는 동일한 메모리 주소를 가지게 되어도\n",
    "b = 7로 새로운 값을 할당하면 더 이상 b 변수는 a 변수를 참조하지 않음\n",
    "b 변수는 7이라는 새로운 객체를 참조하게 됨."
   ],
   "metadata": {
    "collapsed": false
   }
  },
  {
   "cell_type": "code",
   "execution_count": 51,
   "outputs": [
    {
     "data": {
      "text/plain": "(2247653812816, 2247653812816)"
     },
     "execution_count": 51,
     "metadata": {},
     "output_type": "execute_result"
    }
   ],
   "source": [
    "a = 10\n",
    "b = a\n",
    "id(a), id(b)"
   ],
   "metadata": {
    "collapsed": false,
    "pycharm": {
     "name": "#%%ㅁ\n"
    }
   }
  },
  {
   "cell_type": "code",
   "execution_count": 52,
   "outputs": [
    {
     "data": {
      "text/plain": "(10, 2247653812816, 2247653812720)"
     },
     "execution_count": 52,
     "metadata": {},
     "output_type": "execute_result"
    }
   ],
   "source": [
    "b = 7\n",
    "a, id(a), id(b)     # a의 값은 그대로고 주소도 그대로이다"
   ],
   "metadata": {
    "collapsed": false
   }
  },
  {
   "cell_type": "markdown",
   "source": [
    "### is 와 ==\n",
    "== 값을 비교하는 연산자임\n",
    "is는 id()값을 비교하는 함수임 그러니까 메모리 주소를 비교하는 함수"
   ],
   "metadata": {
    "collapsed": false
   }
  },
  {
   "cell_type": "code",
   "execution_count": 53,
   "outputs": [],
   "source": [
    "# None은 null로써 값이 없으므로 ==으로 비교 불가능\n",
    "if a is None:   # is로만 비교 가능하다\n",
    "    pass"
   ],
   "metadata": {
    "collapsed": false
   }
  },
  {
   "cell_type": "code",
   "execution_count": 54,
   "outputs": [
    {
     "data": {
      "text/plain": "True"
     },
     "execution_count": 54,
     "metadata": {},
     "output_type": "execute_result"
    }
   ],
   "source": [
    "# ==와 is 차이\n",
    "a = [1, 2, 3]\n",
    "a == a"
   ],
   "metadata": {
    "collapsed": false
   }
  },
  {
   "cell_type": "code",
   "execution_count": 55,
   "outputs": [
    {
     "data": {
      "text/plain": "True"
     },
     "execution_count": 55,
     "metadata": {},
     "output_type": "execute_result"
    }
   ],
   "source": [
    "a == list(a)    # list()로 묶어주면 별도의 객체로 복사가 되고 다른 ID를 갖게 됨, 그래도 값은 같으니까 True"
   ],
   "metadata": {
    "collapsed": false
   }
  },
  {
   "cell_type": "code",
   "execution_count": 56,
   "outputs": [
    {
     "data": {
      "text/plain": "True"
     },
     "execution_count": 56,
     "metadata": {},
     "output_type": "execute_result"
    }
   ],
   "source": [
    "a is a"
   ],
   "metadata": {
    "collapsed": false
   }
  },
  {
   "cell_type": "code",
   "execution_count": 57,
   "outputs": [
    {
     "data": {
      "text/plain": "False"
     },
     "execution_count": 57,
     "metadata": {},
     "output_type": "execute_result"
    }
   ],
   "source": [
    "a is list(a)    # ID가 다르니까 False"
   ],
   "metadata": {
    "collapsed": false
   }
  },
  {
   "cell_type": "code",
   "execution_count": 59,
   "outputs": [
    {
     "data": {
      "text/plain": "True"
     },
     "execution_count": 59,
     "metadata": {},
     "output_type": "execute_result"
    }
   ],
   "source": [
    "import copy\n",
    "\n",
    "a == copy.deepcopy(a)   # 깊은 복사하면 값은 같으므로 True"
   ],
   "metadata": {
    "collapsed": false
   }
  },
  {
   "cell_type": "code",
   "execution_count": 60,
   "outputs": [
    {
     "data": {
      "text/plain": "False"
     },
     "execution_count": 60,
     "metadata": {},
     "output_type": "execute_result"
    }
   ],
   "source": [
    "a is copy.deepcopy(a)   # 깊은 복사하면 ID가 다르므로 False"
   ],
   "metadata": {
    "collapsed": false
   }
  }
 ],
 "metadata": {
  "kernelspec": {
   "display_name": "Python 3",
   "language": "python",
   "name": "python3"
  },
  "language_info": {
   "codemirror_mode": {
    "name": "ipython",
    "version": 2
   },
   "file_extension": ".py",
   "mimetype": "text/x-python",
   "name": "python",
   "nbconvert_exporter": "python",
   "pygments_lexer": "ipython2",
   "version": "2.7.6"
  }
 },
 "nbformat": 4,
 "nbformat_minor": 0
}
