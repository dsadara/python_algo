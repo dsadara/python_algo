{
 "cells": [
  {
   "cell_type": "markdown",
   "source": [
    "## 리스트(List)\n",
    "순서대로 저장하는 시퀀스이자 변경 가능한 목록(Mutable List)\n",
    "* 입력 순서가 유지되고\n",
    "* 동적 배열이다\n",
    "* 스택과 큐의 연산같은 다양한 기능을 지원\n",
    "* 숫자 외에도 다양한 자료형을 넣을 수 있음\n",
    "* 슬라이싱기능 지원\n",
    "\n",
    "### 리스트의 주요 연산\n",
    "| **연산**         | **시간 복잡도** | **설명**                                 |\n",
    "|----------------|------------|----------------------------------------|\n",
    "| len(a)         |  O(1)      | 전체 요소의 개수를 리턴함                         |\n",
    "| a[i]           |  O(1)      | 인덱스 i의 요소를 가져온다                        |\n",
    "| a[i:j]         |  O(k)      | 인덱스 i부터 j-1까지 슬라이스의 길이만큼인 k개의 요소를 가져온다 |\n",
    "| elem in a      | O(n)       | elem 요소가 존재하는지 확인한다.                   |\n",
    "| a.count(elem)  | O(n)       | elem 요소의 개수를 리턴한다                      |\n",
    "| a.index(elem)  | O(n)       | elem 요소의 인덱스를 리턴한다                     |\n",
    "| a.append(elem) | O(1)       | 리스트 마지막에 elem 요소를 추가한다                 |\n",
    "| a.pop()        | O(1)       | 리스트 마지막 요소를 추출한다. 스택의 연산이다.            |\n",
    "| a.pop(0)       | O(n)       | 리스트 첫번째 요소를 추출한다. 큐의 연산이다.             |\n",
    "| del a[i]       | O(n)       | i에 따라 다르다. 최악인 경우 O(n)임.               |\n",
    "| a.sort()       | O(nlogn)   | 정렬한다. Timsort를 사용. 최선의 경우 O(n)에도 실행됨   |\n",
    "| min(a), max(a) | O(n)       | 최솟값/최댓값을 계산하기 위해서는 전체를 선형 탐색해야 함       |\n",
    "| a.reserve()    | O(n)       | 뒤집는다. 리스트의 입력 순서가 반대가 됨                |"
   ],
   "metadata": {
    "collapsed": false
   }
  },
  {
   "cell_type": "code",
   "execution_count": 1,
   "metadata": {
    "collapsed": true,
    "pycharm": {
     "name": "#%%트\n"
    }
   },
   "outputs": [],
   "source": [
    "# 리스트 선언 방법1\n",
    "a = list()\n",
    "# 리스트 선언 방법 2\n",
    "a = []"
   ]
  },
  {
   "cell_type": "code",
   "execution_count": 13,
   "outputs": [
    {
     "data": {
      "text/plain": "[1, 2, 3]"
     },
     "execution_count": 13,
     "metadata": {},
     "output_type": "execute_result"
    }
   ],
   "source": [
    "a = [1, 2, 3]\n",
    "a"
   ],
   "metadata": {
    "collapsed": false
   }
  },
  {
   "cell_type": "code",
   "execution_count": 14,
   "outputs": [
    {
     "data": {
      "text/plain": "[1, 2, 3, 4]"
     },
     "execution_count": 14,
     "metadata": {},
     "output_type": "execute_result"
    }
   ],
   "source": [
    "# 리스트 마지막에 4 추가\n",
    "a.append(4)\n",
    "a"
   ],
   "metadata": {
    "collapsed": false
   }
  },
  {
   "cell_type": "code",
   "execution_count": 15,
   "outputs": [
    {
     "data": {
      "text/plain": "[1, 2, 3, 5, 4]"
     },
     "execution_count": 15,
     "metadata": {},
     "output_type": "execute_result"
    }
   ],
   "source": [
    "# 3번 인덱스에 5를 삽입\n",
    "a.insert(3, 5)\n",
    "a"
   ],
   "metadata": {
    "collapsed": false
   }
  },
  {
   "cell_type": "code",
   "execution_count": 16,
   "outputs": [
    {
     "data": {
      "text/plain": "[1, 2, 3, 5, 4, '안녕', True]"
     },
     "execution_count": 16,
     "metadata": {},
     "output_type": "execute_result"
    }
   ],
   "source": [
    "# 숫자 외에도 문자와 불리언을 삽입\n",
    "a.append('안녕')\n",
    "a.append(True)\n",
    "a"
   ],
   "metadata": {
    "collapsed": false
   }
  },
  {
   "cell_type": "code",
   "execution_count": 17,
   "outputs": [
    {
     "data": {
      "text/plain": "5"
     },
     "execution_count": 17,
     "metadata": {},
     "output_type": "execute_result"
    }
   ],
   "source": [
    "# 3번 인덱스의 값을 꺼내오기\n",
    "a[3]"
   ],
   "metadata": {
    "collapsed": false
   }
  },
  {
   "cell_type": "code",
   "execution_count": 18,
   "outputs": [
    {
     "data": {
      "text/plain": "[2, 3]"
     },
     "execution_count": 18,
     "metadata": {},
     "output_type": "execute_result"
    }
   ],
   "source": [
    "# 슬라이싱: 인덱스1에서 인덱스3 이전까지의 값을 가져오기\n",
    "a[1:3]"
   ],
   "metadata": {
    "collapsed": false
   }
  },
  {
   "cell_type": "code",
   "execution_count": 19,
   "outputs": [
    {
     "data": {
      "text/plain": "[1, 2, 3]"
     },
     "execution_count": 19,
     "metadata": {},
     "output_type": "execute_result"
    }
   ],
   "source": [
    "# 슬라이싱: 시작 인덱스 생략 -> 인덱스3 이전까지의 값을 가져오기\n",
    "a[:3]"
   ],
   "metadata": {
    "collapsed": false
   }
  },
  {
   "cell_type": "code",
   "execution_count": 20,
   "outputs": [
    {
     "data": {
      "text/plain": "[4, '안녕', True]"
     },
     "execution_count": 20,
     "metadata": {},
     "output_type": "execute_result"
    }
   ],
   "source": [
    "# 슬라이싱: 종료 인덱스 생략 -> 인덱스4 부터 마지막까지 값을 가져오기\n",
    "a[4:]"
   ],
   "metadata": {
    "collapsed": false
   }
  },
  {
   "cell_type": "code",
   "execution_count": 22,
   "outputs": [
    {
     "data": {
      "text/plain": "[2, 5]"
     },
     "execution_count": 22,
     "metadata": {},
     "output_type": "execute_result"
    }
   ],
   "source": [
    "# 슬라이싱: 2칸씩 건너서 값을 가져오기 -> 세 번째 파라미터를 부여\n",
    "a[1:4:2]"
   ],
   "metadata": {
    "collapsed": false
   }
  },
  {
   "cell_type": "code",
   "execution_count": 23,
   "outputs": [
    {
     "data": {
      "text/plain": "[2, 3, 5]"
     },
     "execution_count": 23,
     "metadata": {},
     "output_type": "execute_result"
    }
   ],
   "source": [
    "# 원래 값을 이러함\n",
    "a[1:4]"
   ],
   "metadata": {
    "collapsed": false
   }
  },
  {
   "cell_type": "code",
   "execution_count": 24,
   "outputs": [
    {
     "ename": "IndexError",
     "evalue": "list index out of range",
     "output_type": "error",
     "traceback": [
      "\u001B[1;31m---------------------------------------------------------------------------\u001B[0m",
      "\u001B[1;31mIndexError\u001B[0m                                Traceback (most recent call last)",
      "Cell \u001B[1;32mIn[24], line 2\u001B[0m\n\u001B[0;32m      1\u001B[0m \u001B[38;5;66;03m# 존재하지 않는 인덱스를 조회할 때\u001B[39;00m\n\u001B[1;32m----> 2\u001B[0m \u001B[43ma\u001B[49m\u001B[43m[\u001B[49m\u001B[38;5;241;43m9\u001B[39;49m\u001B[43m]\u001B[49m\n",
      "\u001B[1;31mIndexError\u001B[0m: list index out of range"
     ]
    }
   ],
   "source": [
    "# 존재하지 않는 인덱스를 조회할 때\n",
    "a[9]"
   ],
   "metadata": {
    "collapsed": false
   }
  },
  {
   "cell_type": "code",
   "execution_count": 25,
   "outputs": [
    {
     "name": "stdout",
     "output_type": "stream",
     "text": [
      "존재하지 않는 인덱스\n"
     ]
    }
   ],
   "source": [
    "# 예외처리해보기\n",
    "try:\n",
    "    print(a[9])\n",
    "except IndexError:\n",
    "    print('존재하지 않는 인덱스')"
   ],
   "metadata": {
    "collapsed": false
   }
  },
  {
   "cell_type": "code",
   "execution_count": 54,
   "outputs": [
    {
     "name": "stdout",
     "output_type": "stream",
     "text": [
      "원래값:  [1, 2, 3, 5, 4, '안녕', True]\n"
     ]
    },
    {
     "data": {
      "text/plain": "[1, 3, 5, 4, '안녕', True]"
     },
     "execution_count": 54,
     "metadata": {},
     "output_type": "execute_result"
    }
   ],
   "source": [
    "# 삭제 - 인덱스로 삭제하기 del\n",
    "a = [1, 2, 3, 5, 4, '안녕', True]\n",
    "print('원래값: ',a)\n",
    "del a[1]\n",
    "a"
   ],
   "metadata": {
    "collapsed": false
   }
  },
  {
   "cell_type": "code",
   "execution_count": 55,
   "outputs": [
    {
     "name": "stdout",
     "output_type": "stream",
     "text": [
      "원래값:  [1, 3, 5, 4, '안녕', True]\n"
     ]
    },
    {
     "data": {
      "text/plain": "[1, 5, 4, '안녕', True]"
     },
     "execution_count": 55,
     "metadata": {},
     "output_type": "execute_result"
    }
   ],
   "source": [
    "# 삭제 - 값으로 삭제하기 .remove()\n",
    "print('원래값: ', a)\n",
    "a.remove(3)\n",
    "a"
   ],
   "metadata": {
    "collapsed": false
   }
  },
  {
   "cell_type": "code",
   "execution_count": 56,
   "outputs": [
    {
     "name": "stdout",
     "output_type": "stream",
     "text": [
      "원래값:  [1, 5, 4, '안녕', True]\n",
      "안녕\n"
     ]
    },
    {
     "data": {
      "text/plain": "[1, 5, 4, True]"
     },
     "execution_count": 56,
     "metadata": {},
     "output_type": "execute_result"
    }
   ],
   "source": [
    "# 삭제 - 삭제값 추출하기 .pop()\n",
    "print('원래값: ', a)\n",
    "print(a.pop(3))\n",
    "a"
   ],
   "metadata": {
    "collapsed": false
   }
  }
 ],
 "metadata": {
  "kernelspec": {
   "display_name": "Python 3",
   "language": "python",
   "name": "python3"
  },
  "language_info": {
   "codemirror_mode": {
    "name": "ipython",
    "version": 2
   },
   "file_extension": ".py",
   "mimetype": "text/x-python",
   "name": "python",
   "nbconvert_exporter": "python",
   "pygments_lexer": "ipython2",
   "version": "2.7.6"
  }
 },
 "nbformat": 4,
 "nbformat_minor": 0
}
