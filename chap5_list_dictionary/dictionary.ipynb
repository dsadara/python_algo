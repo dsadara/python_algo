{
 "cells": [
  {
   "cell_type": "markdown",
   "source": [
    "## 딕셔너리\n",
    "키/값 구조로 이뤄진 자료구조. 내부적으로 해시 테이블로 구현되어 있음.\n",
    "* 문자를 포함해 다양한 타입을 키로 사용할 수 있음\n",
    "* 해시할 수만 있다면 불변 객체(숫자, 문자, 집합)을 모두 키로 사용할 수 있음\n",
    "* 파이썬 3.6 이하에서는 입력 순서가 유지되지 않아 collections.OrderedDict()를 사용\n",
    "* 파이썬 3.7부터는 입력 순서를 유지하도록 개선됨\n",
    "\n",
    "### 딕셔너리의 주요 연산\n",
    "해시 테이블의 주요 연산과 시간 복잡도\n",
    "\n",
    "| 연산             | 시간 복잡도 | 설명                  |\n",
    "|----------------|--------|---------------------|\n",
    "| len(a)         | O(1)   | 요소의 개수를 리턴한다        |\n",
    "| a[key]         | O(1)   | 키를 조회하여 값을 리턴한다     |\n",
    "| a[key] = value | O(1)   | 키/값을 삽입한다           |\n",
    "| key in a       | O(1)   | 딕셔너리에 키가 존재하는지 확인한다 |"
   ],
   "metadata": {
    "collapsed": false
   }
  },
  {
   "cell_type": "code",
   "execution_count": 3,
   "metadata": {
    "collapsed": true
   },
   "outputs": [],
   "source": [
    "import collections\n",
    "\n",
    "# 딕셔너리 선언 방법1\n",
    "a = dict()"
   ]
  },
  {
   "cell_type": "code",
   "execution_count": 4,
   "outputs": [],
   "source": [
    "# 딕셔너리 선언 방법2\n",
    "a = {}"
   ],
   "metadata": {
    "collapsed": false
   }
  },
  {
   "cell_type": "code",
   "execution_count": 5,
   "outputs": [
    {
     "data": {
      "text/plain": "{'key1': 'value1', 'key2': 'value2'}"
     },
     "execution_count": 5,
     "metadata": {},
     "output_type": "execute_result"
    }
   ],
   "source": [
    "# 초기값으로 지정해 선언\n",
    "a = {'key1':'value1', 'key2':'value2'}\n",
    "a"
   ],
   "metadata": {
    "collapsed": false
   }
  },
  {
   "cell_type": "code",
   "execution_count": 6,
   "outputs": [
    {
     "data": {
      "text/plain": "{'key1': 'value1', 'key2': 'value2', 'key3': 'value3'}"
     },
     "execution_count": 6,
     "metadata": {},
     "output_type": "execute_result"
    }
   ],
   "source": [
    "# 별도로 선언하여 값 할당\n",
    "a['key3'] = 'value3'\n",
    "a"
   ],
   "metadata": {
    "collapsed": false
   }
  },
  {
   "cell_type": "code",
   "execution_count": 7,
   "outputs": [
    {
     "data": {
      "text/plain": "'value1'"
     },
     "execution_count": 7,
     "metadata": {},
     "output_type": "execute_result"
    }
   ],
   "source": [
    "# 키로 값 조회\n",
    "a['key1']"
   ],
   "metadata": {
    "collapsed": false
   }
  },
  {
   "cell_type": "code",
   "execution_count": 8,
   "outputs": [
    {
     "ename": "KeyError",
     "evalue": "'key4'",
     "output_type": "error",
     "traceback": [
      "\u001B[1;31m---------------------------------------------------------------------------\u001B[0m",
      "\u001B[1;31mKeyError\u001B[0m                                  Traceback (most recent call last)",
      "Cell \u001B[1;32mIn[8], line 2\u001B[0m\n\u001B[0;32m      1\u001B[0m \u001B[38;5;66;03m# 존재하지 않는 키를 조회하면 에러\u001B[39;00m\n\u001B[1;32m----> 2\u001B[0m \u001B[43ma\u001B[49m\u001B[43m[\u001B[49m\u001B[38;5;124;43m'\u001B[39;49m\u001B[38;5;124;43mkey4\u001B[39;49m\u001B[38;5;124;43m'\u001B[39;49m\u001B[43m]\u001B[49m\n",
      "\u001B[1;31mKeyError\u001B[0m: 'key4'"
     ]
    }
   ],
   "source": [
    "# 존재하지 않는 키를 조회하면 에러\n",
    "a['key4']"
   ],
   "metadata": {
    "collapsed": false
   }
  },
  {
   "cell_type": "code",
   "execution_count": 9,
   "outputs": [
    {
     "name": "stdout",
     "output_type": "stream",
     "text": [
      "존재하지 않는 키\n"
     ]
    }
   ],
   "source": [
    "# 예외처리\n",
    "try:\n",
    "    print(a['key4'])\n",
    "except KeyError:\n",
    "    print('존재하지 않는 키')"
   ],
   "metadata": {
    "collapsed": false
   }
  },
  {
   "cell_type": "code",
   "execution_count": 10,
   "outputs": [
    {
     "ename": "KeyError",
     "evalue": "'key4'",
     "output_type": "error",
     "traceback": [
      "\u001B[1;31m---------------------------------------------------------------------------\u001B[0m",
      "\u001B[1;31mKeyError\u001B[0m                                  Traceback (most recent call last)",
      "Cell \u001B[1;32mIn[10], line 2\u001B[0m\n\u001B[0;32m      1\u001B[0m \u001B[38;5;66;03m# 키를 삭제할 때도 KeyError 발생\u001B[39;00m\n\u001B[1;32m----> 2\u001B[0m \u001B[38;5;28;01mdel\u001B[39;00m a[\u001B[38;5;124m'\u001B[39m\u001B[38;5;124mkey4\u001B[39m\u001B[38;5;124m'\u001B[39m]\n",
      "\u001B[1;31mKeyError\u001B[0m: 'key4'"
     ]
    }
   ],
   "source": [
    "# 키를 삭제할 때도 KeyError 발생\n",
    "del a['key4']"
   ],
   "metadata": {
    "collapsed": false
   }
  },
  {
   "cell_type": "code",
   "execution_count": 14,
   "outputs": [
    {
     "name": "stdout",
     "output_type": "stream",
     "text": [
      "False\n",
      "존재하지 않는 키\n"
     ]
    }
   ],
   "source": [
    "# 예외처리 말고 키가 존재하는지 미리 확인후 작업 진행\n",
    "print('key4' in a)\n",
    "if 'key4' in a:\n",
    "    print('존재하는 키')\n",
    "else:\n",
    "    print('존재하지 않는 키')"
   ],
   "metadata": {
    "collapsed": false
   }
  },
  {
   "cell_type": "code",
   "execution_count": 15,
   "outputs": [
    {
     "name": "stdout",
     "output_type": "stream",
     "text": [
      "key1 value1\n",
      "key2 value2\n",
      "key3 value3\n"
     ]
    }
   ],
   "source": [
    "# for 반복문으로 키 값 조회하기\n",
    "for k, v in a.items():\n",
    "    print(k, v)"
   ],
   "metadata": {
    "collapsed": false
   }
  },
  {
   "cell_type": "code",
   "execution_count": 16,
   "outputs": [
    {
     "data": {
      "text/plain": "{'key2': 'value2', 'key3': 'value3'}"
     },
     "execution_count": 16,
     "metadata": {},
     "output_type": "execute_result"
    }
   ],
   "source": [
    "# 딕셔너리 키 삭제\n",
    "del a['key1']\n",
    "a"
   ],
   "metadata": {
    "collapsed": false
   }
  },
  {
   "cell_type": "markdown",
   "source": [
    "### 딕셔너리 모듈\n",
    "딕셔너리를 효율적으로 생성하기 위한 추가모듈\n",
    "파이썬 3.6에서 이를 사용\n",
    "* collections.OrderedDict()\n",
    "    입력 순서가 유지됨\n",
    "* collections.defaultdict()\n",
    "    조회 시 항상 디폴트 값을 생성해 키 오류를 방지\n",
    "* collections.Counter()\n",
    "    요소의 값을 키로 하고 개수를 값 형태로 만들어 카운팅"
   ],
   "metadata": {
    "collapsed": false
   }
  },
  {
   "cell_type": "markdown",
   "source": [
    "### defaultdict 객체\n",
    "존재하지 않는 키를 조회할 경우 에러 메시지를 출력하는 대신 디폴트 값을 기준으로 해당 키에 대한 딕셔너리 아이템 생성"
   ],
   "metadata": {
    "collapsed": false
   }
  },
  {
   "cell_type": "code",
   "execution_count": 21,
   "outputs": [
    {
     "data": {
      "text/plain": "defaultdict(int, {'A': 5, 'B': 4})"
     },
     "execution_count": 21,
     "metadata": {},
     "output_type": "execute_result"
    }
   ],
   "source": [
    "import collections\n",
    "a = collections.defaultdict(int)\n",
    "# 없는 키인 A와 B를 조회해서 없는 경우 할당\n",
    "a['A'] = 5\n",
    "a['B'] = 4\n",
    "a"
   ],
   "metadata": {
    "collapsed": false
   }
  },
  {
   "cell_type": "code",
   "execution_count": 22,
   "outputs": [
    {
     "data": {
      "text/plain": "defaultdict(int, {'A': 5, 'B': 4, 'C': 1})"
     },
     "execution_count": 22,
     "metadata": {},
     "output_type": "execute_result"
    }
   ],
   "source": [
    "# 없는 키인 C를 조회하고 디폴트인 0에서 1을 더해줌\n",
    "a['C'] += 1\n",
    "a"
   ],
   "metadata": {
    "collapsed": false
   }
  },
  {
   "cell_type": "markdown",
   "source": [
    "### Counter 객체\n",
    "아이템에 대한 개수를 계산해 딕셔너리로 리턴함\n",
    "Counter 객체는 키에는 아이템의 값이, 값에는 해당 아이템의 개수가 들어간 딕셔너리를 생성함."
   ],
   "metadata": {
    "collapsed": false
   }
  },
  {
   "cell_type": "code",
   "execution_count": 26,
   "outputs": [
    {
     "data": {
      "text/plain": "Counter({1: 1, 2: 1, 3: 1, 4: 1, 5: 3, 6: 2})"
     },
     "execution_count": 26,
     "metadata": {},
     "output_type": "execute_result"
    }
   ],
   "source": [
    "# Counter 객체 생성\n",
    "a = [1, 2, 3, 4, 5, 5, 5, 6, 6]\n",
    "b = collections.Counter(a)\n",
    "b"
   ],
   "metadata": {
    "collapsed": false
   }
  },
  {
   "cell_type": "code",
   "execution_count": 27,
   "outputs": [
    {
     "data": {
      "text/plain": "collections.Counter"
     },
     "execution_count": 27,
     "metadata": {},
     "output_type": "execute_result"
    }
   ],
   "source": [
    "# Counter 객체는 딕셔너리를 한 번 래핑한 클래스임\n",
    "type(b)"
   ],
   "metadata": {
    "collapsed": false
   }
  },
  {
   "cell_type": "code",
   "execution_count": 29,
   "outputs": [
    {
     "data": {
      "text/plain": "[(5, 3), (6, 2)]"
     },
     "execution_count": 29,
     "metadata": {},
     "output_type": "execute_result"
    }
   ],
   "source": [
    "# 빈도 높은 요소를 2개를 추출하기\n",
    "b.most_common(2)"
   ],
   "metadata": {
    "collapsed": false
   }
  },
  {
   "cell_type": "markdown",
   "source": [
    "### OrderedDict 객체\n",
    "파이썬 3.6이하에서는 Dictionary 자료형의 입력 순서가 유지되지 않는다. (파이썬 3.7부터는 유지됨)\n",
    "입력 순서가 유지되는 OrderedDict 라는 별도의 객체를 사용한다."
   ],
   "metadata": {
    "collapsed": false
   }
  },
  {
   "cell_type": "code",
   "execution_count": 31,
   "outputs": [
    {
     "data": {
      "text/plain": "OrderedDict([('banana', 3), ('apple', 4), ('pear', 1), ('orange', 2)])"
     },
     "execution_count": 31,
     "metadata": {},
     "output_type": "execute_result"
    }
   ],
   "source": [
    "# 입력 그대로 순서가 유지됨\n",
    "collections.OrderedDict({'banana': 3, 'apple': 4, 'pear': 1, 'orange': 2})"
   ],
   "metadata": {
    "collapsed": false
   }
  },
  {
   "cell_type": "markdown",
   "source": [
    "### 타입 선언\n",
    "파이썬에서 타입을 선언하는 문법은 간편하게 기호로도 할 수 있다."
   ],
   "metadata": {
    "collapsed": false
   }
  },
  {
   "cell_type": "code",
   "execution_count": 32,
   "outputs": [
    {
     "data": {
      "text/plain": "list"
     },
     "execution_count": 32,
     "metadata": {},
     "output_type": "execute_result"
    }
   ],
   "source": [
    "# 이름으로 타입 선언하기\n",
    "a = list()\n",
    "type(a)"
   ],
   "metadata": {
    "collapsed": false
   }
  },
  {
   "cell_type": "code",
   "execution_count": 33,
   "outputs": [
    {
     "data": {
      "text/plain": "list"
     },
     "execution_count": 33,
     "metadata": {},
     "output_type": "execute_result"
    }
   ],
   "source": [
    "# 기호로 타입 선언하기\n",
    "type([])"
   ],
   "metadata": {
    "collapsed": false
   }
  },
  {
   "cell_type": "code",
   "execution_count": 34,
   "outputs": [
    {
     "data": {
      "text/plain": "tuple"
     },
     "execution_count": 34,
     "metadata": {},
     "output_type": "execute_result"
    }
   ],
   "source": [
    "type(())"
   ],
   "metadata": {
    "collapsed": false
   }
  },
  {
   "cell_type": "code",
   "execution_count": 35,
   "outputs": [
    {
     "data": {
      "text/plain": "dict"
     },
     "execution_count": 35,
     "metadata": {},
     "output_type": "execute_result"
    }
   ],
   "source": [
    "type({})"
   ],
   "metadata": {
    "collapsed": false
   }
  },
  {
   "cell_type": "code",
   "execution_count": 36,
   "outputs": [
    {
     "data": {
      "text/plain": "set"
     },
     "execution_count": 36,
     "metadata": {},
     "output_type": "execute_result"
    }
   ],
   "source": [
    "# 중괄호에 키 없이 값만 선언하면 set이 됨\n",
    "type({1})"
   ],
   "metadata": {
    "collapsed": false
   }
  }
 ],
 "metadata": {
  "kernelspec": {
   "display_name": "Python 3",
   "language": "python",
   "name": "python3"
  },
  "language_info": {
   "codemirror_mode": {
    "name": "ipython",
    "version": 2
   },
   "file_extension": ".py",
   "mimetype": "text/x-python",
   "name": "python",
   "nbconvert_exporter": "python",
   "pygments_lexer": "ipython2",
   "version": "2.7.6"
  }
 },
 "nbformat": 4,
 "nbformat_minor": 0
}
