{
 "cells": [
  {
   "cell_type": "markdown",
   "source": [
    "## 유효한 팰린드롬\n",
    "\n",
    "[리트코드 125. Valid Palindrome](https://leetcode.com/problems/valid-palindrome/)\n",
    "\n",
    "주어진 문자열이 팰린드롬인지 확인하는 문제.\n",
    "* 대소문자를 구분하지 않으며, 영문자와 숫자만을 대상으로 함\n",
    "### 예제1\n",
    "* 입력\n",
    "  ```\n",
    "  \"A man, a plan, a canal: Panama\"\n",
    "  ```\n",
    "* 출력\n",
    "  ```\n",
    "  true\n",
    "  ```"
   ],
   "metadata": {
    "collapsed": false
   }
  },
  {
   "cell_type": "markdown",
   "source": [
    "### 풀이1: 리스트로 반환\n",
    "1. 먼저 알파뱃만 골라서 소문자로 변환후 리스트에 집어넣기"
   ],
   "metadata": {
    "collapsed": false
   }
  },
  {
   "cell_type": "code",
   "execution_count": 19,
   "metadata": {
    "collapsed": true,
    "pycharm": {
     "name": "#%%ㅇ\n"
    }
   },
   "outputs": [
    {
     "name": "stdout",
     "output_type": "stream",
     "text": [
      "['a', 'm', 'a', 'n', 'a', 'p', 'l', 'a', 'n', 'a', 'c', 'a', 'n', 'a', 'l', 'p', 'a', 'n', 'a', 'm', 'a']\n"
     ]
    }
   ],
   "source": [
    "s = \"A man, a plan, a canal: Panama\"\n",
    "strs = []\n",
    "for char in s:\n",
    "    if char.isalnum():\n",
    "        strs.append(char.lower())\n",
    "print(strs)"
   ]
  },
  {
   "cell_type": "markdown",
   "source": [
    "2. 팰린드롬 여부 판단하기\n",
    "pop(0)은 O(n)이므로 느리다"
   ],
   "metadata": {
    "collapsed": false
   }
  },
  {
   "cell_type": "code",
   "execution_count": 20,
   "outputs": [],
   "source": [
    "while len(strs) > 1:\n",
    "    if strs.pop(0) != strs.pop():\n",
    "        print(False)"
   ],
   "metadata": {
    "collapsed": false
   }
  },
  {
   "cell_type": "markdown",
   "source": [
    "전체코드"
   ],
   "metadata": {
    "collapsed": false
   }
  },
  {
   "cell_type": "code",
   "execution_count": 21,
   "outputs": [
    {
     "name": "stdout",
     "output_type": "stream",
     "text": [
      "True\n"
     ]
    }
   ],
   "source": [
    "class chap6:\n",
    "    def isPalindrome(self, s: str) -> bool:\n",
    "        strs = []\n",
    "        for char in s:\n",
    "            if char.isalnum():  # 영문자, 숫자여부를 판단하는 함수\n",
    "                strs.append(char.lower())\n",
    "\n",
    "        # 팰린드롬 여부 판별\n",
    "        while len(strs) > 1:\n",
    "            if strs.pop(0) != strs.pop():\n",
    "                return False\n",
    "\n",
    "        return True\n",
    "\n",
    "print(chap6().isPalindrome(s))"
   ],
   "metadata": {
    "collapsed": false
   }
  },
  {
   "cell_type": "markdown",
   "source": [
    "### 풀이2: 데크를 사용한 최적화\n",
    "popleft()는 O(1)으로 빠르다"
   ],
   "metadata": {
    "collapsed": false
   }
  },
  {
   "cell_type": "code",
   "execution_count": 22,
   "outputs": [
    {
     "name": "stdout",
     "output_type": "stream",
     "text": [
      "True\n"
     ]
    }
   ],
   "source": [
    "from typing import Deque\n",
    "import collections\n",
    "\n",
    "class chap6:\n",
    "    def isPalindrome2(self, s: str) -> bool:\n",
    "        # 자료형 데크로 선언\n",
    "        strs: Deque = collections.deque()\n",
    "\n",
    "        for char in s:\n",
    "            if char.isalnum():\n",
    "                strs.append(char.lower())\n",
    "        while len(strs) > 1:\n",
    "            if strs.popleft() != strs.pop():\n",
    "                return False\n",
    "\n",
    "        return True\n",
    "\n",
    "print(chap6().isPalindrome2(s))"
   ],
   "metadata": {
    "collapsed": false
   }
  },
  {
   "cell_type": "markdown",
   "source": [
    "### 풀이3: 슬라이싱 사용\n",
    "슬라이싱은 C로 구현되어 속도가 빠르다"
   ],
   "metadata": {
    "collapsed": false
   }
  },
  {
   "cell_type": "code",
   "execution_count": 23,
   "outputs": [
    {
     "name": "stdout",
     "output_type": "stream",
     "text": [
      "True\n"
     ]
    }
   ],
   "source": [
    "import re\n",
    "\n",
    "class chap6:\n",
    "    def isPalindrome3(self, s: str) -> bool:\n",
    "        s = s.lower()\n",
    "        s = re.sub('[^a-z0-9]', '', s)  # 정규식으로 영숫자만 걸러내기\n",
    "\n",
    "        return s == s[::-1] # 슬라이싱\n",
    "\n",
    "print(chap6().isPalindrome3(s))"
   ],
   "metadata": {
    "collapsed": false
   }
  },
  {
   "cell_type": "markdown",
   "source": [
    "### 속도 비교\n",
    "| 풀이 | 방식 | 실행 시간 |\n",
    "| --- | --- | ---- |\n",
    "| 1 | 리스트로 변환 | 304밀리초 |\n",
    "| 2 | 데크 자료형을 이용한 최적화 | 64밀리초 |\n",
    "| 3 | 슬라이싱 사용 | 36밀리초 |\n",
    "| 4 | C 구현 | 4밀리초 |"
   ],
   "metadata": {
    "collapsed": false
   }
  }
 ],
 "metadata": {
  "kernelspec": {
   "display_name": "Python 3",
   "language": "python",
   "name": "python3"
  },
  "language_info": {
   "codemirror_mode": {
    "name": "ipython",
    "version": 2
   },
   "file_extension": ".py",
   "mimetype": "text/x-python",
   "name": "python",
   "nbconvert_exporter": "python",
   "pygments_lexer": "ipython2",
   "version": "2.7.6"
  }
 },
 "nbformat": 4,
 "nbformat_minor": 0
}
