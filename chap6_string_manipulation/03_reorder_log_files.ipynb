{
 "cells": [
  {
   "cell_type": "markdown",
   "source": [
    "## 로그 파일 재정렬\n",
    "[리트코드 937. Reorder Log Files](https://leetcode.com/problems/reorder-data-in-log-files/)\n",
    "\n",
    "로그를 재정렬하라. 기준은 다음과 같다\n",
    "1. 로그의 가장 앞 부분은 식별자다.\n",
    "2. 문자로 구성된 로그가 숫자 로그보다 앞에 온다.\n",
    "3. 식별자는 순서에 영향을 끼치지 않지만, 문자가 동일한 경우 식별자 순으로 한다.\n",
    "4. 숫자 로그는 입력 순서대로 한다.\n",
    "\n"
   ],
   "metadata": {
    "collapsed": false
   }
  },
  {
   "cell_type": "markdown",
   "source": [
    "### 예제\n",
    "입력\n",
    "```\n",
    "logs = [\"dig1 8 1 5 1\",\"let1 art can\",\"dig2 3 6\",\"let2 own kit dig\",\"let3 art zero\"]\n",
    "```\n",
    "출력\n",
    "```\n",
    "[\"let1 art can\",\"let3 art zero\",\"let2 own kit dig\",\"dig1 8 1 5 1\",\"dig2 3 6\"]\n",
    "```"
   ],
   "metadata": {
    "collapsed": false
   }
  },
  {
   "cell_type": "markdown",
   "source": [
    "### 풀이1: 람다와 + 연산자를 이용\n",
    "문자로 구성된 로그가 숫자 로그보다 이전에 오므로\n",
    "1. 먼저 문자와 숫자를 구분한다."
   ],
   "metadata": {
    "collapsed": false
   }
  },
  {
   "cell_type": "code",
   "execution_count": 1,
   "metadata": {
    "collapsed": true
   },
   "outputs": [
    {
     "name": "stdout",
     "output_type": "stream",
     "text": [
      "['let1 art can', 'let2 own kit dig', 'let3 art zero']\n",
      "['dig1 8 1 5 1', 'dig2 3 6']\n"
     ]
    }
   ],
   "source": [
    "logs = [\"dig1 8 1 5 1\",\"let1 art can\",\"dig2 3 6\",\"let2 own kit dig\",\"let3 art zero\"]\n",
    "\n",
    "# 문자와 숫자를 구분\n",
    "letters, digits = [], []\n",
    "\n",
    "for log in logs:\n",
    "    if log.split()[1].isdigit():\n",
    "        digits.append(log)\n",
    "    else:\n",
    "        letters.append(log)\n",
    "\n",
    "print(letters)\n",
    "print(digits)"
   ]
  },
  {
   "cell_type": "markdown",
   "source": [
    "이제 숫자로 변환 가능한 로그는 digits에, 문자 로그는 letters에 모였으므로 정렬하기만 하면 된다.\n",
    "숫자 로그는 입력 순서대로 하므로 정렬 안해도 됨."
   ],
   "metadata": {
    "collapsed": false
   }
  },
  {
   "cell_type": "code",
   "execution_count": 2,
   "outputs": [
    {
     "data": {
      "text/plain": "['let1 art can', 'let3 art zero', 'let2 own kit dig']"
     },
     "execution_count": 2,
     "metadata": {},
     "output_type": "execute_result"
    }
   ],
   "source": [
    "# 식별자를 제외한 문자열 [1:]을 키로 하여 정렬, 동일한 경우 후순위로 식별자 [0]을 지정해 정렬\n",
    "letters.sort(key=lambda x: (x.split()[1:], x.split()[0]))\n",
    "\n",
    "letters"
   ],
   "metadata": {
    "collapsed": false
   }
  },
  {
   "cell_type": "markdown",
   "source": [
    "이제 모두 이어 붙이기만 하면 됨"
   ],
   "metadata": {
    "collapsed": false
   }
  },
  {
   "cell_type": "code",
   "execution_count": 3,
   "outputs": [
    {
     "data": {
      "text/plain": "['let1 art can',\n 'let3 art zero',\n 'let2 own kit dig',\n 'dig1 8 1 5 1',\n 'dig2 3 6']"
     },
     "execution_count": 3,
     "metadata": {},
     "output_type": "execute_result"
    }
   ],
   "source": [
    "letters + digits"
   ],
   "metadata": {
    "collapsed": false
   }
  },
  {
   "cell_type": "markdown",
   "source": [
    "전체 코드"
   ],
   "metadata": {
    "collapsed": false
   }
  },
  {
   "cell_type": "code",
   "execution_count": 4,
   "outputs": [
    {
     "data": {
      "text/plain": "['let1 art can',\n 'let3 art zero',\n 'let2 own kit dig',\n 'dig1 8 1 5 1',\n 'dig2 3 6']"
     },
     "execution_count": 4,
     "metadata": {},
     "output_type": "execute_result"
    }
   ],
   "source": [
    "from typing import List\n",
    "\n",
    "logs = [\"dig1 8 1 5 1\",\"let1 art can\",\"dig2 3 6\",\"let2 own kit dig\",\"let3 art zero\"]\n",
    "class chap6:\n",
    "    def reorderLogFiles(self, logs: List[str]) -> List[str]:\n",
    "        letters, digits = [], []\n",
    "        for log in logs:\n",
    "            if log.split()[1].isdigit():\n",
    "                digits.append(log)\n",
    "            else:\n",
    "                letters.append(log)\n",
    "\n",
    "        # 2개의 키를 람다 표현식으로 정렬\n",
    "        letters.sort(key=lambda x: (x.split()[1:], x.split()[0]))\n",
    "\n",
    "        return letters + digits\n",
    "\n",
    "result = chap6().reorderLogFiles(logs)\n",
    "result"
   ],
   "metadata": {
    "collapsed": false
   }
  },
  {
   "cell_type": "code",
   "execution_count": 4,
   "outputs": [],
   "source": [],
   "metadata": {
    "collapsed": false
   }
  }
 ],
 "metadata": {
  "kernelspec": {
   "display_name": "Python 3",
   "language": "python",
   "name": "python3"
  },
  "language_info": {
   "codemirror_mode": {
    "name": "ipython",
    "version": 2
   },
   "file_extension": ".py",
   "mimetype": "text/x-python",
   "name": "python",
   "nbconvert_exporter": "python",
   "pygments_lexer": "ipython2",
   "version": "2.7.6"
  }
 },
 "nbformat": 4,
 "nbformat_minor": 0
}
