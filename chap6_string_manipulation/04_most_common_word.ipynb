{
 "cells": [
  {
   "cell_type": "markdown",
   "source": [
    "## 가장 흔한 단어\n",
    "[리트코드 819. Most Common Word](https://leetcode.com/problems/most-common-word/)\n",
    "\n",
    "금지된 단어를 제외한 가장 흔하게 등장하는 단어를 출력하라.\n",
    "대소문자 구분을 하지 않으며, 구두점(마침표, 쉼표 등) 또한 무시한다.\n",
    "\n",
    "입력\n",
    "\n",
    "```\n",
    "paragraph = \"Bob hit a ball, the hit BALL flew far after it was hit.\"\n",
    "banned = [\"hit\"]\n",
    "```\n",
    "\n",
    "출력\n",
    "```\n",
    "\"ball\"\n",
    "```"
   ],
   "metadata": {
    "collapsed": false
   }
  },
  {
   "cell_type": "markdown",
   "source": [
    "### 풀이1: 리스트 컴프리헨션, Counter 객체 사용\n",
    "\n",
    "먼저 데이터 클렌징(Data Cleansing)이라 부르는 입력값에 대한 전처리(Preprocessing)을 진행한다.\n",
    "좀더 편리하게 처리하기 위해 정규식을 섞어 쓰면 아래와 같다."
   ],
   "metadata": {
    "collapsed": false
   }
  },
  {
   "cell_type": "code",
   "execution_count": 12,
   "outputs": [],
   "source": [
    "import collections\n",
    "import re\n",
    "\n",
    "paragraph = \"Bob hit a ball, the hit Ball flew far after it was hit.\"\n",
    "banned = [\"hit\"]"
   ],
   "metadata": {
    "collapsed": false
   }
  },
  {
   "cell_type": "code",
   "execution_count": 13,
   "metadata": {
    "collapsed": true
   },
   "outputs": [
    {
     "name": "stdout",
     "output_type": "stream",
     "text": [
      "['bob', 'a', 'ball', 'the', 'ball', 'flew', 'far', 'after', 'it', 'was']\n"
     ]
    }
   ],
   "source": [
    "words = [word for word in re.sub(r'[^\\w]', ' ', paragraph)\n",
    "         .lower().split()\n",
    "         if word not in banned]\n",
    "\n",
    "print(words)"
   ]
  },
  {
   "cell_type": "markdown",
   "source": [
    "r prefix는 raw string으로 \\ 을 탈출 문자로 보지 않고 그냥 문자열로 간주하겠다는 것이다.\n",
    "\\w는 단어 문자(Word Character)을 뜻하며 ^은 not을 의미한다.\n",
    "따라서 위 정규식은 **단어 문자가 아닌 모든 문자를 공백으로 치환**하는 역할을 한다."
   ],
   "metadata": {
    "collapsed": false
   }
  },
  {
   "cell_type": "code",
   "execution_count": 14,
   "outputs": [
    {
     "name": "stdout",
     "output_type": "stream",
     "text": [
      "Bob hit a ball, the hit Ball flew far after it was hit.\n",
      "['bob', 'hit', 'a', 'ball', 'the', 'hit', 'ball', 'flew', 'far', 'after', 'it', 'was', 'hit']\n"
     ]
    }
   ],
   "source": [
    "print(paragraph)\n",
    "\n",
    "words2 = re.sub(r'[^\\w]', ' ', paragraph).lower().split()\n",
    "print(words2)"
   ],
   "metadata": {
    "collapsed": false
   }
  },
  {
   "cell_type": "markdown",
   "source": [
    "단어의 목록이 완성되었으니 이제 딕셔너리를 사용하여 단어의 개수를 세면 된다."
   ],
   "metadata": {
    "collapsed": false
   }
  },
  {
   "cell_type": "code",
   "execution_count": 15,
   "outputs": [
    {
     "name": "stdout",
     "output_type": "stream",
     "text": [
      "defaultdict(<class 'int'>, {'bob': 1, 'a': 1, 'ball': 2, 'the': 1, 'flew': 1, 'far': 1, 'after': 1, 'it': 1, 'was': 1})\n"
     ]
    }
   ],
   "source": [
    "counts = collections.defaultdict(int)   # int값이 자동으로 부여되는 딕셔너리\n",
    "for word in words:\n",
    "    counts[word] += 1   # 키 존재 유무 확인할 필요 없이 즉시 증감 연산이 가능하다\n",
    "\n",
    "print(counts)"
   ],
   "metadata": {
    "collapsed": false
   }
  },
  {
   "cell_type": "markdown",
   "source": [
    "max() 함수에 key를 지정해 argmax를 추출하는 방법"
   ],
   "metadata": {
    "collapsed": false
   }
  },
  {
   "cell_type": "code",
   "execution_count": 16,
   "outputs": [
    {
     "data": {
      "text/plain": "'ball'"
     },
     "execution_count": 16,
     "metadata": {},
     "output_type": "execute_result"
    }
   ],
   "source": [
    "max(counts, key=counts.get)"
   ],
   "metadata": {
    "collapsed": false
   }
  },
  {
   "cell_type": "markdown",
   "source": [
    "Counter 모듈을 사용해서 더 간단하게 구현할 수 있다."
   ],
   "metadata": {
    "collapsed": false
   }
  },
  {
   "cell_type": "code",
   "execution_count": 17,
   "outputs": [
    {
     "name": "stdout",
     "output_type": "stream",
     "text": [
      "Counter({'ball': 2, 'bob': 1, 'a': 1, 'the': 1, 'flew': 1, 'far': 1, 'after': 1, 'it': 1, 'was': 1})\n"
     ]
    }
   ],
   "source": [
    "counts = collections.Counter(words)\n",
    "print(counts)"
   ],
   "metadata": {
    "collapsed": false
   }
  },
  {
   "cell_type": "markdown",
   "source": [
    "most_common(1)으로 words에서 가장 흔하게 등장하는 단어의 첫번쨰를 추출한 다음\n",
    "이 값의 [0][0]을 추출하면 첫 번째 인덱스의 키를 추출하게 됨"
   ],
   "metadata": {
    "collapsed": false
   }
  },
  {
   "cell_type": "code",
   "execution_count": 18,
   "outputs": [
    {
     "data": {
      "text/plain": "'ball'"
     },
     "execution_count": 18,
     "metadata": {},
     "output_type": "execute_result"
    }
   ],
   "source": [
    "counts.most_common(1)[0][0]"
   ],
   "metadata": {
    "collapsed": false
   }
  },
  {
   "cell_type": "markdown",
   "source": [
    "전체 코드"
   ],
   "metadata": {
    "collapsed": false
   }
  },
  {
   "cell_type": "code",
   "execution_count": 19,
   "outputs": [],
   "source": [
    "import collections\n",
    "import re\n",
    "from typing import List\n",
    "\n",
    "class chap6:\n",
    "    def mostCommonWord(self, paragraph: str, banned: List[str]) -> str:\n",
    "        words = [word for word in re.sub(r'[^\\w]', ' ', paragraph)\n",
    "                 .lower().split()\n",
    "                 if word not in banned]\n",
    "        counts = collections.Counter(words)\n",
    "        # 가장 흔하게 등장하는 단어의 첫 번째 인덱스 리턴\n",
    "        return counts.most_common(1)[0][0]"
   ],
   "metadata": {
    "collapsed": false
   }
  },
  {
   "cell_type": "code",
   "execution_count": 20,
   "outputs": [
    {
     "name": "stdout",
     "output_type": "stream",
     "text": [
      "ball\n"
     ]
    }
   ],
   "source": [
    "paragraph = \"Bob hit a ball, the hit Ball flew far after it was hit.\"\n",
    "banned = [\"hit\"]\n",
    "\n",
    "print(chap6().mostCommonWord(paragraph, banned))"
   ],
   "metadata": {
    "collapsed": false
   }
  },
  {
   "cell_type": "markdown",
   "source": [
    "전체 코드 (dictionary, max 사용 버전)"
   ],
   "metadata": {
    "collapsed": false
   }
  },
  {
   "cell_type": "code",
   "execution_count": 21,
   "outputs": [],
   "source": [
    "import collections\n",
    "import re\n",
    "from typing import List\n",
    "\n",
    "class chap6:\n",
    "    def mostCommonWord(self, paragraph: str, banned: List[str]) -> str:\n",
    "        words = [word for word in re.sub(r'[^\\w]', ' ', paragraph)\n",
    "                 .lower().split()\n",
    "                 if word not in banned]\n",
    "        counts = collections.defaultdict(int)\n",
    "        for word in words:\n",
    "            counts[word] += 1\n",
    "        return max(counts, key=counts.get)"
   ],
   "metadata": {
    "collapsed": false
   }
  },
  {
   "cell_type": "code",
   "execution_count": 22,
   "outputs": [
    {
     "name": "stdout",
     "output_type": "stream",
     "text": [
      "ball\n"
     ]
    }
   ],
   "source": [
    "paragraph = \"Bob hit a ball, the hit Ball flew far after it was hit.\"\n",
    "banned = [\"hit\"]\n",
    "\n",
    "print(chap6().mostCommonWord(paragraph, banned))"
   ],
   "metadata": {
    "collapsed": false
   }
  }
 ],
 "metadata": {
  "kernelspec": {
   "display_name": "Python 3",
   "language": "python",
   "name": "python3"
  },
  "language_info": {
   "codemirror_mode": {
    "name": "ipython",
    "version": 2
   },
   "file_extension": ".py",
   "mimetype": "text/x-python",
   "name": "python",
   "nbconvert_exporter": "python",
   "pygments_lexer": "ipython2",
   "version": "2.7.6"
  }
 },
 "nbformat": 4,
 "nbformat_minor": 0
}
