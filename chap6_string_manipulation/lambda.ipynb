{
 "cells": [
  {
   "cell_type": "markdown",
   "source": [
    "### 람다 표현식\n",
    "람다 표현식이란 식별자 없이 실행 가능한 함수를 말함.\n",
    "함수 선언 없이도 하나의 식으로 함수를 단순하게 표현 가능."
   ],
   "metadata": {
    "collapsed": false
   }
  },
  {
   "cell_type": "markdown",
   "source": [
    "그냥 정렬을 사용하면 다음과 같다."
   ],
   "metadata": {
    "collapsed": false
   }
  },
  {
   "cell_type": "code",
   "execution_count": 4,
   "outputs": [
    {
     "data": {
      "text/plain": "['1 A', '1 B', '2 A', '4 C']"
     },
     "execution_count": 4,
     "metadata": {},
     "output_type": "execute_result"
    }
   ],
   "source": [
    "s = ['2 A', '1 B', '4 C', '1 A']\n",
    "\n",
    "# 앞에 있는 것인 숫자로 기준으로 정렬이 된다\n",
    "sorted(s)"
   ],
   "metadata": {
    "collapsed": false
   }
  },
  {
   "cell_type": "markdown",
   "source": [
    "그 뒤에 문자 순 정렬을 하려면\n",
    "**2개의 키를 람다 표현식으로 정렬하는 문법**을 사용해야 한다\n"
   ],
   "metadata": {
    "collapsed": false
   }
  },
  {
   "cell_type": "code",
   "execution_count": 5,
   "metadata": {
    "collapsed": true
   },
   "outputs": [
    {
     "data": {
      "text/plain": "['1 A', '2 A', '1 B', '4 C']"
     },
     "execution_count": 5,
     "metadata": {},
     "output_type": "execute_result"
    }
   ],
   "source": [
    "s = ['2 A', '1 B', '4 C', '1 A']\n",
    "\n",
    "# 두번째 문자열인 알파뱃을 기준으로 정렬, 같으면 숫자로 정렬\n",
    "s.sort(key=lambda x: (x.split()[1], x.split()[0]))\n",
    "s"
   ]
  },
  {
   "cell_type": "markdown",
   "source": [
    "람다를 사용하지 않고 직접 함수를 선언하는 형태는 다음과 같다."
   ],
   "metadata": {
    "collapsed": false
   }
  },
  {
   "cell_type": "code",
   "execution_count": 6,
   "outputs": [
    {
     "data": {
      "text/plain": "['1 A', '2 A', '1 B', '4 C']"
     },
     "execution_count": 6,
     "metadata": {},
     "output_type": "execute_result"
    }
   ],
   "source": [
    "s = ['2 A', '1 B', '4 C', '1 A']\n",
    "\n",
    "def func(x):\n",
    "    return x.split()[1], x.split()[0]\n",
    "\n",
    "s.sort(key=func)\n",
    "s"
   ],
   "metadata": {
    "collapsed": false
   }
  }
 ],
 "metadata": {
  "kernelspec": {
   "display_name": "Python 3",
   "language": "python",
   "name": "python3"
  },
  "language_info": {
   "codemirror_mode": {
    "name": "ipython",
    "version": 2
   },
   "file_extension": ".py",
   "mimetype": "text/x-python",
   "name": "python",
   "nbconvert_exporter": "python",
   "pygments_lexer": "ipython2",
   "version": "2.7.6"
  }
 },
 "nbformat": 4,
 "nbformat_minor": 0
}
