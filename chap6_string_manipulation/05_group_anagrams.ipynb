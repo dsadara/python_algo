{
 "cells": [
  {
   "cell_type": "markdown",
   "source": [
    "## 그룹 애너그램\n",
    "[리트코드 49. Group Anagram](https://leetcode.com/problems/group-anagrams/)\n",
    "\n",
    "문자열 배열을 받아 애너그램 단위로 그룹핑하라.\n",
    "\n",
    "입력\n",
    "\n",
    "```\n",
    "[\"eat\", \"tea\", \"tan\", \"ate\", \"nat\", \"bat\"]\n",
    "```\n",
    "\n",
    "출력\n",
    "```\n",
    "[\n",
    "    [\"ate\", \"eat\", \"tea\"],\n",
    "    [\"nat\", \"tan\"],\n",
    "    [\"bat\"]\n",
    "]\n",
    "```\n",
    "\n",
    "애너그램(Anagram)이란 문자를 재배열하여 다른 뜻을 가진 단어로 바꾸는 것을 말함."
   ],
   "metadata": {
    "collapsed": false
   }
  },
  {
   "cell_type": "markdown",
   "source": [
    "### 풀이1: 정렬하여 딕셔너리에 추가\n",
    "애너그램을 판단하는 가장 간단한 방법은 정렬하여 비교하는 것임.\n",
    "sorted()로 문자열을 정렬하고 반환된 리스트를 join()으로 합쳐 이 값을 키로 하는 딕셔너리로 구성하면 됨.\n",
    "애너그램끼리는 같은 키를 갖게 되고 여기에 append()하는 형태가 된다."
   ],
   "metadata": {
    "collapsed": false
   }
  },
  {
   "cell_type": "code",
   "execution_count": 2,
   "metadata": {
    "collapsed": true
   },
   "outputs": [
    {
     "name": "stdout",
     "output_type": "stream",
     "text": [
      "defaultdict(<class 'list'>, {})\n"
     ]
    }
   ],
   "source": [
    "import collections\n",
    "\n",
    "words = [\"eat\", \"tea\", \"tan\", \"ate\", \"nat\", \"bat\"]\n",
    "\n",
    "# list가 value인 defaultdict 생성\n",
    "anagrams = collections.defaultdict(list);\n",
    "\n",
    "print(anagrams)"
   ]
  },
  {
   "cell_type": "code",
   "execution_count": 3,
   "outputs": [
    {
     "data": {
      "text/plain": "defaultdict(list,\n            {'aet': ['eat', 'tea', 'ate'],\n             'ant': ['tan', 'nat'],\n             'abt': ['bat']})"
     },
     "execution_count": 3,
     "metadata": {},
     "output_type": "execute_result"
    }
   ],
   "source": [
    "for word in words:\n",
    "    anagrams[''.join(sorted(word))].append(word)\n",
    "\n",
    "anagrams"
   ],
   "metadata": {
    "collapsed": false
   }
  },
  {
   "cell_type": "code",
   "execution_count": 4,
   "outputs": [
    {
     "data": {
      "text/plain": "[['eat', 'tea', 'ate'], ['tan', 'nat'], ['bat']]"
     },
     "execution_count": 4,
     "metadata": {},
     "output_type": "execute_result"
    }
   ],
   "source": [
    "list(anagrams.values())"
   ],
   "metadata": {
    "collapsed": false,
    "pycharm": {
     "name": "#%%ㄴ\n"
    }
   }
  },
  {
   "cell_type": "markdown",
   "source": [
    "전체 코드"
   ],
   "metadata": {
    "collapsed": false
   }
  },
  {
   "cell_type": "code",
   "execution_count": 5,
   "outputs": [],
   "source": [
    "import collections\n",
    "from typing import List\n",
    "\n",
    "class chap6:\n",
    "    def groupAnagrams(self, strs: List[str]) -> List[List[str]]:\n",
    "        anagrams = collections.defaultdict(list)\n",
    "\n",
    "        for word in strs:\n",
    "            # 정렬하여 딕셔너리에 추가\n",
    "            anagrams[''.join(sorted(word))].append(word)\n",
    "        return list(anagrams.values())"
   ],
   "metadata": {
    "collapsed": false
   }
  },
  {
   "cell_type": "code",
   "execution_count": 6,
   "outputs": [
    {
     "data": {
      "text/plain": "[['eat', 'tea', 'ate'], ['tan', 'nat'], ['bat']]"
     },
     "execution_count": 6,
     "metadata": {},
     "output_type": "execute_result"
    }
   ],
   "source": [
    "words = [\"eat\", \"tea\", \"tan\", \"ate\", \"nat\", \"bat\"]\n",
    "chap6().groupAnagrams(words)"
   ],
   "metadata": {
    "collapsed": false
   }
  }
 ],
 "metadata": {
  "kernelspec": {
   "display_name": "Python 3",
   "language": "python",
   "name": "python3"
  },
  "language_info": {
   "codemirror_mode": {
    "name": "ipython",
    "version": 2
   },
   "file_extension": ".py",
   "mimetype": "text/x-python",
   "name": "python",
   "nbconvert_exporter": "python",
   "pygments_lexer": "ipython2",
   "version": "2.7.6"
  }
 },
 "nbformat": 4,
 "nbformat_minor": 0
}
