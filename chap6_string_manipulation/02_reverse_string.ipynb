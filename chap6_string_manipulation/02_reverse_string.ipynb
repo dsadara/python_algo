{
 "cells": [
  {
   "cell_type": "markdown",
   "source": [
    "## 문자열 뒤집기\n",
    "\n",
    "[리트코드 344.Reverse String](https://leetcode.com/problems/reverse-string/)\n",
    "\n",
    "문자열을 뒤집는 함수를 작성하라. 입력값은 문자 배열이며, **리턴 없이 리스트 내부를 직접 조작하라**.\n",
    "\n"
   ],
   "metadata": {
    "collapsed": false
   }
  },
  {
   "cell_type": "markdown",
   "source": [
    "### 예제 1\n",
    "입력\n",
    "```\n",
    "[\"h\", \"e\", \"l\", \"l\", \"o\"]\n",
    "```\n",
    "출력\n",
    "```\n",
    "[\"o\", \"l\", \"l\", \"e\", \"h\"]\n",
    "```\n",
    "\n",
    "### 예제2\n",
    "```\n",
    "[\"H\", \"a\", \"n\", \"n\", \"a\", \"h\"]\n",
    "```\n",
    "출력\n",
    "```\n",
    "[\"h\", \"a\", \"n\", \"n\", \"a\", \"H\"]\n",
    "```"
   ],
   "metadata": {
    "collapsed": false
   }
  },
  {
   "cell_type": "markdown",
   "source": [
    "### 풀이1: 투 포인터를 이용한 스왑\n",
    "2개의 포인터를 이용해 범위를 조정해가며 풀이하는 방식"
   ],
   "metadata": {
    "collapsed": false
   }
  },
  {
   "cell_type": "code",
   "execution_count": 66,
   "outputs": [
    {
     "data": {
      "text/plain": "['h', 'e', 'l', 'l', 'o']"
     },
     "execution_count": 66,
     "metadata": {},
     "output_type": "execute_result"
    }
   ],
   "source": [
    "s = [\"h\", \"e\", \"l\", \"l\", \"o\"]\n",
    "\n",
    "s"
   ],
   "metadata": {
    "collapsed": false
   }
  },
  {
   "cell_type": "code",
   "execution_count": 67,
   "metadata": {
    "collapsed": true
   },
   "outputs": [
    {
     "data": {
      "text/plain": "['o', 'l', 'l', 'e', 'h']"
     },
     "execution_count": 67,
     "metadata": {},
     "output_type": "execute_result"
    }
   ],
   "source": [
    "from typing import List\n",
    "\n",
    "class chap6:\n",
    "    def reverseString(self, s: List[str]) -> None:\n",
    "        left, right = 0, len(s) - 1\n",
    "        while left < right:\n",
    "            s[left], s[right] = s[right], s[left]\n",
    "            left += 1\n",
    "            right -= 1\n",
    "\n",
    "chap6().reverseString(s)\n",
    "s"
   ]
  },
  {
   "cell_type": "markdown",
   "source": [
    "### 풀이2: 파이써닉한 방식\n",
    "reverse()를 사용하여 한줄로 풀이하기"
   ],
   "metadata": {
    "collapsed": false
   }
  },
  {
   "cell_type": "code",
   "execution_count": 68,
   "outputs": [
    {
     "data": {
      "text/plain": "['h', 'e', 'l', 'l', 'o']"
     },
     "execution_count": 68,
     "metadata": {},
     "output_type": "execute_result"
    }
   ],
   "source": [
    "s = [\"h\", \"e\", \"l\", \"l\", \"o\"]\n",
    "\n",
    "s"
   ],
   "metadata": {
    "collapsed": false
   }
  },
  {
   "cell_type": "code",
   "execution_count": 69,
   "outputs": [
    {
     "data": {
      "text/plain": "['o', 'l', 'l', 'e', 'h']"
     },
     "execution_count": 69,
     "metadata": {},
     "output_type": "execute_result"
    }
   ],
   "source": [
    "class chap6:\n",
    "    def reverseString2(self, s: List[str]) -> None:\n",
    "        s.reverse()\n",
    "\n",
    "chap6().reverseString2(s)\n",
    "s"
   ],
   "metadata": {
    "collapsed": false
   }
  },
  {
   "cell_type": "markdown",
   "source": [
    " reverse()는 리스트에만 제공된다.\n",
    " 입력값이 문자열이라면 **문자열 슬라이싱**을 사용할 수 있음\n",
    " 문자열 슬라이싱은 리스트에도 사용할 수 있으며 성능 또한 매우 좋다."
   ],
   "metadata": {
    "collapsed": false
   }
  },
  {
   "cell_type": "code",
   "execution_count": 70,
   "outputs": [
    {
     "data": {
      "text/plain": "['h', 'e', 'l', 'l', 'o']"
     },
     "execution_count": 70,
     "metadata": {},
     "output_type": "execute_result"
    }
   ],
   "source": [
    "s = [\"h\", \"e\", \"l\", \"l\", \"o\"]\n",
    "s"
   ],
   "metadata": {
    "collapsed": false
   }
  },
  {
   "cell_type": "code",
   "execution_count": 71,
   "outputs": [
    {
     "data": {
      "text/plain": "['o', 'l', 'l', 'e', 'h']"
     },
     "execution_count": 71,
     "metadata": {},
     "output_type": "execute_result"
    }
   ],
   "source": [
    "class chap6:\n",
    "    def reverseString3(self, s: List[str]) -> None:\n",
    "        s[:] = s[::-1]  # 변수 대입상에 오류가 있음, 이렇게 하면 대입 됨\n",
    "\n",
    "chap6().reverseString3(s)\n",
    "s"
   ],
   "metadata": {
    "collapsed": false
   }
  }
 ],
 "metadata": {
  "kernelspec": {
   "display_name": "Python 3",
   "language": "python",
   "name": "python3"
  },
  "language_info": {
   "codemirror_mode": {
    "name": "ipython",
    "version": 2
   },
   "file_extension": ".py",
   "mimetype": "text/x-python",
   "name": "python",
   "nbconvert_exporter": "python",
   "pygments_lexer": "ipython2",
   "version": "2.7.6"
  }
 },
 "nbformat": 4,
 "nbformat_minor": 0
}
