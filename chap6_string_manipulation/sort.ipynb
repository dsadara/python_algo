{
 "cells": [
  {
   "cell_type": "markdown",
   "source": [
    "## 여러 가지 정렬 방법\n",
    "\n",
    "파이썬은 정렬 함수를 기본으로 제공한다."
   ],
   "metadata": {
    "collapsed": false
   }
  },
  {
   "cell_type": "markdown",
   "source": [
    "sorted() 함수를 이용한 파이썬 리스트를 정렬하는 예"
   ],
   "metadata": {
    "collapsed": false
   }
  },
  {
   "cell_type": "code",
   "execution_count": 16,
   "metadata": {
    "collapsed": true
   },
   "outputs": [
    {
     "data": {
      "text/plain": "[1, 2, 5, 7, 9]"
     },
     "execution_count": 16,
     "metadata": {},
     "output_type": "execute_result"
    }
   ],
   "source": [
    "a = [2, 5, 1, 9, 7]\n",
    "sorted(a)"
   ]
  },
  {
   "cell_type": "markdown",
   "source": [
    "숫자뿐 아니라 문자도 정렬이 가능함"
   ],
   "metadata": {
    "collapsed": false
   }
  },
  {
   "cell_type": "code",
   "execution_count": 17,
   "outputs": [
    {
     "data": {
      "text/plain": "['a', 'b', 'd', 'f', 'z']"
     },
     "execution_count": 17,
     "metadata": {},
     "output_type": "execute_result"
    }
   ],
   "source": [
    "b = 'zbdaf'\n",
    "sorted(b)"
   ],
   "metadata": {
    "collapsed": false
   }
  },
  {
   "cell_type": "markdown",
   "source": [
    "join()을 사용해서 리스트가 된 문자열을 다시 문자열로 결합"
   ],
   "metadata": {
    "collapsed": false
   }
  },
  {
   "cell_type": "code",
   "execution_count": 18,
   "outputs": [
    {
     "data": {
      "text/plain": "'abdfz'"
     },
     "execution_count": 18,
     "metadata": {},
     "output_type": "execute_result"
    }
   ],
   "source": [
    "''.join(sorted(b))"
   ],
   "metadata": {
    "collapsed": false
   }
  },
  {
   "cell_type": "markdown",
   "source": [
    "### 제자리 정렬(In-place-Sort)\n",
    "제자리 정렬 알고리즘은 입력을 출력으로 덮어 쓰기 때문에 별도의 추가 공간이 필요하지 않으며, 리턴값이 없다.\n",
    "리스트 자료형은 sort() 메소드를 함께 제공하며, 리스트 자체를 정렬할 수 있다.\n",
    "sorted()는 정렬 결과를 별도로 리턴하므로 다르다는 것을 유의"
   ],
   "metadata": {
    "collapsed": false
   }
  },
  {
   "cell_type": "code",
   "execution_count": 19,
   "outputs": [
    {
     "data": {
      "text/plain": "[1, 2, 5, 6, 9]"
     },
     "execution_count": 19,
     "metadata": {},
     "output_type": "execute_result"
    }
   ],
   "source": [
    "alist = [5, 2, 1, 6, 9]\n",
    "alist.sort()    # sort()는 리스트 자체를 제자리 정렬\n",
    "alist"
   ],
   "metadata": {
    "collapsed": false
   }
  },
  {
   "cell_type": "code",
   "execution_count": 20,
   "outputs": [],
   "source": [
    "alist = alist.sort()    #  잘못된 구문임, sort()함수는 None을 리턴함"
   ],
   "metadata": {
    "collapsed": false,
    "pycharm": {
     "name": "#%%ㅁ\n"
    }
   }
  },
  {
   "cell_type": "markdown",
   "source": [
    "sorted()는 key= 옵션을 지정해 **정렬을 위한 키 또는 함수를 별도로 지정**할 수 있음"
   ],
   "metadata": {
    "collapsed": false
   }
  },
  {
   "cell_type": "code",
   "execution_count": 21,
   "outputs": [
    {
     "data": {
      "text/plain": "['d', 'bb', 'ccc', 'aaaa']"
     },
     "execution_count": 21,
     "metadata": {},
     "output_type": "execute_result"
    }
   ],
   "source": [
    "# 정렬을 위한 함수로 길이를 구하는 len을 지정한 경우\n",
    "# 알파벳 순서가 아닌 길이 순서로 정렬이 된다\n",
    "c = ['ccc', 'aaaa', 'd', 'bb']\n",
    "sorted(c, key=len)"
   ],
   "metadata": {
    "collapsed": false
   }
  },
  {
   "cell_type": "code",
   "execution_count": 22,
   "outputs": [
    {
     "name": "stdout",
     "output_type": "stream",
     "text": [
      "['abc', 'cfc', 'cde']\n"
     ]
    }
   ],
   "source": [
    "# 함수를 이용해 첫 문자열(s[0])과 마지막 문자열(s[1]) 순으로 정렬하도록 지정\n",
    "a = ['cde', 'cfc', 'abc']\n",
    "\n",
    "def fn(s):\n",
    "    return s[0], s[-1]\n",
    "\n",
    "print(sorted(a, key=fn))"
   ],
   "metadata": {
    "collapsed": false
   }
  },
  {
   "cell_type": "markdown",
   "source": [
    "그냥 sorted()로 처리했으면\n",
    "['abc', 'cde', 'cfc'] 순으로 출력될 것이다.\n",
    "\n",
    "다음은 람다를 이용해서 정렬하기"
   ],
   "metadata": {
    "collapsed": false
   }
  },
  {
   "cell_type": "code",
   "execution_count": 23,
   "outputs": [
    {
     "data": {
      "text/plain": "['abc', 'cfc', 'cde']"
     },
     "execution_count": 23,
     "metadata": {},
     "output_type": "execute_result"
    }
   ],
   "source": [
    "a = ['cde', 'cfc', 'abc']\n",
    "sorted(a, key=lambda s: (s[0], s[-1]))"
   ],
   "metadata": {
    "collapsed": false
   }
  }
 ],
 "metadata": {
  "kernelspec": {
   "display_name": "Python 3",
   "language": "python",
   "name": "python3"
  },
  "language_info": {
   "codemirror_mode": {
    "name": "ipython",
    "version": 2
   },
   "file_extension": ".py",
   "mimetype": "text/x-python",
   "name": "python",
   "nbconvert_exporter": "python",
   "pygments_lexer": "ipython2",
   "version": "2.7.6"
  }
 },
 "nbformat": 4,
 "nbformat_minor": 0
}
