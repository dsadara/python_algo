{
 "cells": [
  {
   "cell_type": "markdown",
   "source": [
    "## 가장 긴 팰린드롬 부분 문자열\n",
    "[리트코드 5. Longest Palindrome Substring](https://leetcode.com/problems/longest-palindromic-substring/)\n",
    "\n",
    "가장 긴 팰린드롬 부분 문자열을 출력하라\n",
    "\n",
    "### 예제1\n",
    "* 입력\n",
    "\n",
    "    ```\n",
    "    \"badad\"\n",
    "    ```\n",
    "\n",
    "* 출력\n",
    "    ```\n",
    "    \"bab\"\n",
    "    ```\n",
    "  \"aba\"도 정답임\n",
    "\n",
    "### 예제2\n",
    "* 입력\n",
    "\n",
    "    ```\n",
    "    \"cbbd\"\n",
    "    ```\n",
    "\n",
    "* 출력\n",
    "    ```\n",
    "    \"bb\"\n",
    "    ```"
   ],
   "metadata": {
    "collapsed": false
   }
  },
  {
   "cell_type": "markdown",
   "source": [
    "### 풀이1: 중앙을 중심으로 확장하는 풀이\n",
    "투 포인터가 중앙을 중심으로 확장해 나가면서 가장 긴 팰린드롬을 판별하는 알고리즘.\n",
    "\n",
    "2칸, 3칸으로 구성된 투 포인터가 슬라이딩 윈도우처럼 계속 전진해나가고,\n",
    "이때 윈도우에 들어온 문자열이 팰린드롬인 경우 그 자리에서 멈추고 투 포인터가 점점 확장하는 방식임.\n",
    "* 2칸 슬라이딩 윈도우에서 잡힐 경우 짝수로 확장(2->4->6->...)하고\n",
    "* 3칸으로 잡히면 홀수로 확장(1->3->5->...)한다."
   ],
   "metadata": {
    "collapsed": false
   }
  },
  {
   "cell_type": "code",
   "execution_count": 77,
   "outputs": [],
   "source": [
    "s = \"badad\""
   ],
   "metadata": {
    "collapsed": false
   }
  },
  {
   "cell_type": "markdown",
   "source": [
    "먼저 예외를 발견하면 early return을 한다\n",
    "* 길이가 2 이하면 팰린드롬이 아니고\n",
    "* 슬라이싱을 해서 문자열 뒤집기를 해보고 같으면 팰린드롬이다"
   ],
   "metadata": {
    "collapsed": false
   }
  },
  {
   "cell_type": "code",
   "execution_count": 78,
   "metadata": {
    "collapsed": true
   },
   "outputs": [],
   "source": [
    "if len(s) < 2 or s == s[::-1]:\n",
    "    pass    # return s"
   ]
  },
  {
   "cell_type": "code",
   "execution_count": 79,
   "outputs": [],
   "source": [
    "# 팰린드롬 판별 및 투 포인터 확장\n",
    "def expand(left: int, right:int) -> str:\n",
    "    while left >= 0 and right < len(s) and s[left] == s[right]:\n",
    "        left -= 1\n",
    "        right += 1\n",
    "    return s[left + 1:right]"
   ],
   "metadata": {
    "collapsed": false
   }
  },
  {
   "cell_type": "markdown",
   "source": [
    "다음과 같이 슬라이딩 윈도우를 문자열 처음부터 끝까지 우측으로 이동시킴"
   ],
   "metadata": {
    "collapsed": false
   }
  },
  {
   "cell_type": "code",
   "execution_count": 80,
   "outputs": [
    {
     "data": {
      "text/plain": "'ada'"
     },
     "execution_count": 80,
     "metadata": {},
     "output_type": "execute_result"
    }
   ],
   "source": [
    "result = ''\n",
    "for i in range(0, len(s) - 1):\n",
    "    result = max(result,\n",
    "                 expand(i, i + 1),\n",
    "                 expand(i, i + 2),\n",
    "                 key=len)\n",
    "result"
   ],
   "metadata": {
    "collapsed": false
   }
  },
  {
   "cell_type": "markdown",
   "source": [
    "전체 코드"
   ],
   "metadata": {
    "collapsed": false
   }
  },
  {
   "cell_type": "code",
   "execution_count": 81,
   "outputs": [],
   "source": [
    "class chap6:\n",
    "    def longestPalindrome(self, s: str) -> str:\n",
    "        # 팰린드롬 판별 및 투 포인터 확장\n",
    "        def expand(left: int, right:int) -> str:\n",
    "            while left >= 0 and right < len(s) and s[left] == s[right]:\n",
    "                left -= 1\n",
    "                right += 1\n",
    "            return s[left + 1:right]\n",
    "\n",
    "        # early return\n",
    "        if len(s) < 2 or s == s[::-1]:\n",
    "            return s\n",
    "\n",
    "        result = ''\n",
    "        # 슬라이딩 윈도우 우측으로 이동\n",
    "        for i in range(len(s) - 1):\n",
    "            result = max(result,\n",
    "                         expand(i, i + 1),\n",
    "                         expand(i, i + 2),\n",
    "                         key=len)\n",
    "        return result"
   ],
   "metadata": {
    "collapsed": false
   }
  },
  {
   "cell_type": "code",
   "execution_count": 82,
   "outputs": [
    {
     "data": {
      "text/plain": "'bab'"
     },
     "execution_count": 82,
     "metadata": {},
     "output_type": "execute_result"
    }
   ],
   "source": [
    "s1 = 'babad'\n",
    "chap6().longestPalindrome(s1)"
   ],
   "metadata": {
    "collapsed": false
   }
  },
  {
   "cell_type": "code",
   "execution_count": 83,
   "outputs": [
    {
     "data": {
      "text/plain": "'bb'"
     },
     "execution_count": 83,
     "metadata": {},
     "output_type": "execute_result"
    }
   ],
   "source": [
    "s2 = 'cbbd'\n",
    "chap6().longestPalindrome(s2)"
   ],
   "metadata": {
    "collapsed": false
   }
  },
  {
   "cell_type": "code",
   "execution_count": 84,
   "outputs": [
    {
     "data": {
      "text/plain": "'123454321'"
     },
     "execution_count": 84,
     "metadata": {},
     "output_type": "execute_result"
    }
   ],
   "source": [
    "s3 = '123454321'\n",
    "chap6().longestPalindrome(s3)"
   ],
   "metadata": {
    "collapsed": false
   }
  }
 ],
 "metadata": {
  "kernelspec": {
   "display_name": "Python 3",
   "language": "python",
   "name": "python3"
  },
  "language_info": {
   "codemirror_mode": {
    "name": "ipython",
    "version": 2
   },
   "file_extension": ".py",
   "mimetype": "text/x-python",
   "name": "python",
   "nbconvert_exporter": "python",
   "pygments_lexer": "ipython2",
   "version": "2.7.6"
  }
 },
 "nbformat": 4,
 "nbformat_minor": 0
}
