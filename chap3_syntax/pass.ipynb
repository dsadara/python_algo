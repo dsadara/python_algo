{
 "cells": [
  {
   "cell_type": "markdown",
   "source": [
    "## pass\n",
    "\n",
    "파이썬에서 pass는 널 연산(Null Operation)으로 아무것도 하지 않는 기능임\n",
    "\n",
    "코드의 골격을 잡아놓고 내부에서 처리할 내용을 차근차근 만들겠다는 의도로 코딩할 때 사용 -> 이를 목업(Mockup) 인터페이스라고 함"
   ],
   "metadata": {
    "collapsed": false
   }
  },
  {
   "cell_type": "code",
   "execution_count": 2,
   "metadata": {
    "collapsed": true
   },
   "outputs": [
    {
     "ename": "IndentationError",
     "evalue": "expected an indented block (12862434.py, line 4)",
     "output_type": "error",
     "traceback": [
      "\u001B[1;36m  Cell \u001B[1;32mIn[2], line 4\u001B[1;36m\u001B[0m\n\u001B[1;33m    def method_b(self):\u001B[0m\n\u001B[1;37m    ^\u001B[0m\n\u001B[1;31mIndentationError\u001B[0m\u001B[1;31m:\u001B[0m expected an indented block\n"
     ]
    }
   ],
   "source": [
    "# 이 코드는 인덴트 오류를 발생시킴\n",
    "class MyClass(object):\n",
    "    def method_a(self):\n",
    "\n",
    "    def method_b(self):\n",
    "        print(\"Method B\")\n",
    "\n",
    "c = MyClass"
   ]
  },
  {
   "cell_type": "code",
   "execution_count": 6,
   "outputs": [],
   "source": [
    "# pass로 해결 가능\n",
    "class MyClass(object):\n",
    "    def method_a(self):\n",
    "        pass\n",
    "    def method_b(self):\n",
    "        print(\"Method B\")\n",
    "\n",
    "c = MyClass"
   ],
   "metadata": {
    "collapsed": false
   }
  }
 ],
 "metadata": {
  "kernelspec": {
   "display_name": "Python 3",
   "language": "python",
   "name": "python3"
  },
  "language_info": {
   "codemirror_mode": {
    "name": "ipython",
    "version": 2
   },
   "file_extension": ".py",
   "mimetype": "text/x-python",
   "name": "python",
   "nbconvert_exporter": "python",
   "pygments_lexer": "ipython2",
   "version": "2.7.6"
  }
 },
 "nbformat": 4,
 "nbformat_minor": 0
}
