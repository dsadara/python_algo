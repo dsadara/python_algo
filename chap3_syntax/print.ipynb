{
 "cells": [
  {
   "cell_type": "markdown",
   "source": [
    "## print\n",
    "\n",
    "코딩테스트시 디버깅을 위한 print() 함수"
   ],
   "metadata": {
    "collapsed": false
   }
  },
  {
   "cell_type": "code",
   "execution_count": 1,
   "metadata": {
    "collapsed": true
   },
   "outputs": [
    {
     "name": "stdout",
     "output_type": "stream",
     "text": [
      "A1 B2\n"
     ]
    }
   ],
   "source": [
    "# 콤마로 값을 구분하기\n",
    "print('A1', 'B2')"
   ]
  },
  {
   "cell_type": "code",
   "execution_count": 2,
   "outputs": [
    {
     "name": "stdout",
     "output_type": "stream",
     "text": [
      "A1,B2\n"
     ]
    }
   ],
   "source": [
    "# sep 파라미터로 구분자를 콤마(,)로 지정해주기\n",
    "print('A1', 'B2', sep=',')"
   ],
   "metadata": {
    "collapsed": false
   }
  },
  {
   "cell_type": "code",
   "execution_count": 3,
   "outputs": [
    {
     "name": "stdout",
     "output_type": "stream",
     "text": [
      "줄\n",
      "바꿈\n"
     ]
    }
   ],
   "source": [
    "# print()함수는 기본 줄바꿈임\n",
    "print('줄')\n",
    "print('바꿈')"
   ],
   "metadata": {
    "collapsed": false
   }
  },
  {
   "cell_type": "code",
   "execution_count": 4,
   "outputs": [
    {
     "name": "stdout",
     "output_type": "stream",
     "text": [
      "aa bb\n"
     ]
    }
   ],
   "source": [
    "# end 파라미터 사용해서 줄바꿈 하지 않기\n",
    "print('aa', end=' ')\n",
    "print('bb')"
   ],
   "metadata": {
    "collapsed": false
   }
  },
  {
   "cell_type": "code",
   "execution_count": 7,
   "outputs": [
    {
     "name": "stdout",
     "output_type": "stream",
     "text": [
      "['A', 'B']\n",
      "A B\n"
     ]
    }
   ],
   "source": [
    "# 리스트를 출력할 때는 join()으로 묶어서 처리\n",
    "a = ['A', 'B']\n",
    "print(a)\n",
    "print(' '.join(a))"
   ],
   "metadata": {
    "collapsed": false
   }
  },
  {
   "cell_type": "code",
   "execution_count": 8,
   "outputs": [
    {
     "name": "stdout",
     "output_type": "stream",
     "text": [
      "2: Apple\n"
     ]
    }
   ],
   "source": [
    "idx = 1\n",
    "fruit = \"Apple\"\n",
    "\n",
    "# idx에 1을 더해서 fruit와 함께 출력하는 방법 (포맷팅을 사용)\n",
    "print('{0}: {1}'.format(idx + 1, fruit))"
   ],
   "metadata": {
    "collapsed": false
   }
  },
  {
   "cell_type": "code",
   "execution_count": 9,
   "outputs": [
    {
     "name": "stdout",
     "output_type": "stream",
     "text": [
      "2: Apple\n"
     ]
    }
   ],
   "source": [
    "# 인덱스를 생략할 수도 있음\n",
    "print('{}: {}'.format(idx + 1, fruit))"
   ],
   "metadata": {
    "collapsed": false,
    "pycharm": {
     "name": "#%%ㄴ\n"
    }
   }
  },
  {
   "cell_type": "code",
   "execution_count": 11,
   "outputs": [
    {
     "name": "stdout",
     "output_type": "stream",
     "text": [
      "2: Apple\n"
     ]
    }
   ],
   "source": [
    "# 더 깔끔한 f-string(formated string literal) 방식\n",
    "print(f'{idx + 1}: {fruit}')\n",
    "# 파이썬 3.6+에서만 지원한다"
   ],
   "metadata": {
    "collapsed": false
   }
  }
 ],
 "metadata": {
  "kernelspec": {
   "display_name": "Python 3",
   "language": "python",
   "name": "python3"
  },
  "language_info": {
   "codemirror_mode": {
    "name": "ipython",
    "version": 2
   },
   "file_extension": ".py",
   "mimetype": "text/x-python",
   "name": "python",
   "nbconvert_exporter": "python",
   "pygments_lexer": "ipython2",
   "version": "2.7.6"
  }
 },
 "nbformat": 4,
 "nbformat_minor": 0
}
